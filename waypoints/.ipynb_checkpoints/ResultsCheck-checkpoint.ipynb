{
 "cells": [
  {
   "cell_type": "code",
   "execution_count": 1,
   "id": "allied-christian",
   "metadata": {},
   "outputs": [
    {
     "name": "stderr",
     "output_type": "stream",
     "text": [
      "Failed to load Python extension for LZ4 support. LZ4 compression will not be available.\n"
     ]
    }
   ],
   "source": [
    "import rosbag\n",
    "import numpy as np\n",
    "import matplotlib.pyplot as plt\n",
    "import pandas as pd"
   ]
  },
  {
   "cell_type": "code",
   "execution_count": 2,
   "id": "champion-balloon",
   "metadata": {},
   "outputs": [],
   "source": [
    "# FUNCTIONS\n",
    "def to_euler(x, y, z, w):\n",
    "    \"\"\"Return as xyz (roll pitch yaw) Euler angles.\"\"\"\n",
    "    roll = np.arctan2(2 * (w * x + y * z), 1 - 2 * (x**2 + y**2))\n",
    "    pitch = np.arcsin(2 * (w * y - z * x))\n",
    "    yaw = np.arctan2(2 * (w * z + x * y), 1 - 2 * (y**2 + z**2))\n",
    "    return [roll, pitch, yaw]\n",
    "\n",
    "def wrap_angle(angle):\n",
    "    return (angle + np.pi) % (2 * np.pi) - np.pi\n",
    "\n",
    "def unwrap_angle(angle_array):\n",
    "    unwrapped = np.copy(angle_array)\n",
    "    k_now = 0\n",
    "    angle_before = 0\n",
    "    for i in range(len(unwrapped)):\n",
    "        if ((angle_before < -2) and (unwrapped[i] > 2)):\n",
    "            k_now = k_now - 1\n",
    "        elif ((angle_before > 2) and (unwrapped[i] < -2)):\n",
    "            k_now = k_now + 1\n",
    "        angle_before = unwrapped[i]\n",
    "        unwrapped[i] += (k_now * 2 *np.pi)\n",
    "    return unwrapped\n",
    "\n",
    "def reindex_value(source_val, source_idx, target_idx, target_val=None):\n",
    "#     if (target_val!=None):\n",
    "#         no_tval = True\n",
    "#         target_val = np.copy(target_idx)\n",
    "    no_tval = False\n",
    "    try:\n",
    "        _ = target_val.shape\n",
    "    except:\n",
    "        no_tval = True\n",
    "        target_val = np.copy(target_idx)\n",
    "    # FIND INDEX INTERSECTION\n",
    "    latest_start_idx = max(source_idx[0],\n",
    "                           target_idx[0])\n",
    "    earliest_start_idx =min(source_idx[0],\n",
    "                           target_idx[0])\n",
    "    earliest_end_idx = min(source_idx[-1],\n",
    "                           target_idx[-1])\n",
    "    # CONVERT TO PD.DF\n",
    "    source_pd = pd.DataFrame(index = source_idx,\n",
    "                             data = source_val)\n",
    "    target_pd = pd.DataFrame(index = target_idx,\n",
    "                             data = target_val)\n",
    "    # DROP DUPLICATED INDEX\n",
    "    source_pd = source_pd[~source_pd.index.duplicated()]\n",
    "    target_pd = target_pd[~target_pd.index.duplicated()]\n",
    "    # SLICE DATA IN INTERSECTION\n",
    "    source_pd = source_pd.reindex(source_pd.index.union([latest_start_idx,\n",
    "                                                         earliest_end_idx])).interpolate(method='index')\n",
    "    time_mask = (source_pd.index >= latest_start_idx) &\\\n",
    "                (source_pd.index <= earliest_end_idx)\n",
    "    source_pd = source_pd.loc[time_mask]\n",
    "    \n",
    "    target_pd = target_pd.reindex(target_pd.index.union([latest_start_idx,\n",
    "                                                         earliest_end_idx])).interpolate(method='index')\n",
    "    time_mask = (target_pd.index >= latest_start_idx) &\\\n",
    "                (target_pd.index <= earliest_end_idx)\n",
    "    target_pd = target_pd.loc[time_mask]\n",
    "    # REINDEX SOURCE_VAL\n",
    "    source_pd = source_pd.reindex(source_pd.index.union(target_pd.index))\\\n",
    "                                        .interpolate(method='index')\\\n",
    "                                        .reindex(target_pd.index)\n",
    "    # CONVERT BACK TO NP ARRAY\n",
    "    _sval = source_pd.to_numpy()\n",
    "    _sidx = source_pd.index.to_numpy()\n",
    "    \n",
    "    if (no_tval==False):\n",
    "        _tval = target_pd.to_numpy()\n",
    "        _tidx = target_pd.index.to_numpy()\n",
    "        return _sval, _sidx, _tidx, _tval\n",
    "    else:\n",
    "        return _sval, _sidx"
   ]
  },
  {
   "cell_type": "code",
   "execution_count": 3,
   "id": "veterinary-order",
   "metadata": {},
   "outputs": [
    {
     "name": "stdout",
     "output_type": "stream",
     "text": [
      "path:        waypoints/tes_124_1_ini.bag\n",
      "version:     2.0\n",
      "duration:    26.8s\n",
      "start:       Apr 12 2021 18:32:45.99 (1618227165.99)\n",
      "end:         Apr 12 2021 18:33:12.79 (1618227192.79)\n",
      "size:        4.1 MB\n",
      "messages:    12850\n",
      "compression: none [6/6 chunks]\n",
      "types:       diagnostic_msgs/DiagnosticArray       [60810da900de1dd6ddd437c3503511da]\n",
      "             dynamic_reconfigure/Config            [958f16a05573709014982821e6822580]\n",
      "             dynamic_reconfigure/ConfigDescription [757ce9d44ba8ddd801bb30bc456f946f]\n",
      "             geometry_msgs/TwistStamped            [98d34b0043a2093cf9d9345ab6eef12e]\n",
      "             golfi/ukf_states                      [38d0f35cc2cbdd4f2de2e8d12d845144]\n",
      "             local_planner/Camera                  [82a48f852eaf431c359f63ae6647045a]\n",
      "             local_planner/Planner                 [c22f4c778f0c956764c8ed2b49af91e2]\n",
      "             nav_msgs/Odometry                     [cd5e73d190d741a2f92e81eda573aca7]\n",
      "             pkg_ta/Control                        [95b6622e1ca744690587278838df3ff8]\n",
      "             pkg_ta/LogArduino                     [794f6f831f1064c1b29b65087ebb232f]\n",
      "             rosgraph_msgs/Log                     [acffd30cd6b6de30f120938c17c593fb]\n",
      "             sensor_msgs/Imu                       [6a62c6daae103f4ff57a132d6f95cec2]\n",
      "             sensor_msgs/NavSatFix                 [2d3a8cd499b9b4a0249fb98fd05cfa48]\n",
      "             sensor_msgs/TimeReference             [fded64a0265108ba86c3d38fb11c0c16]\n",
      "topics:      /control_signal                     532 msgs @ 20.0 Hz : pkg_ta/Control                       \n",
      "             /diagnostics                         27 msgs @  1.0 Hz : diagnostic_msgs/DiagnosticArray      \n",
      "             /fix                                133 msgs @  5.0 Hz : sensor_msgs/NavSatFix                \n",
      "             /imu                               1330 msgs @ 50.1 Hz : sensor_msgs/Imu                      \n",
      "             /imu_node/parameter_descriptions      1 msg            : dynamic_reconfigure/ConfigDescription\n",
      "             /imu_node/parameter_updates           1 msg            : dynamic_reconfigure/Config           \n",
      "             /logging_arduino                   1229 msgs @ 49.5 Hz : pkg_ta/LogArduino                    \n",
      "             /object_depth                       132 msgs @  5.0 Hz : local_planner/Camera                 \n",
      "             /odom                              1328 msgs @ 77.1 Hz : nav_msgs/Odometry                    \n",
      "             /rosout                            3081 msgs @ 2.2 kHz : rosgraph_msgs/Log                     (7 connections)\n",
      "             /rosout_agg                        3062 msgs @ 2.5 kHz : rosgraph_msgs/Log                    \n",
      "             /time_reference                     133 msgs @  5.0 Hz : sensor_msgs/TimeReference            \n",
      "             /ukf_states                        1329 msgs @ 50.0 Hz : golfi/ukf_states                     \n",
      "             /utm                                133 msgs @  5.0 Hz : nav_msgs/Odometry                    \n",
      "             /vel                                266 msgs @ 98.5 Hz : geometry_msgs/TwistStamped           \n",
      "             /wp_planner                         133 msgs @  5.0 Hz : local_planner/Planner\n"
     ]
    }
   ],
   "source": [
    "# IMPORT DATA\n",
    "_bagfolder = \"waypoints/\"\n",
    "_bagfilename = \"tes_124_1_ini\"\n",
    "bag = rosbag.Bag(_bagfolder+_bagfilename+\".bag\")\n",
    "print(bag)"
   ]
  },
  {
   "cell_type": "code",
   "execution_count": 4,
   "id": "fundamental-responsibility",
   "metadata": {},
   "outputs": [
    {
     "name": "stdout",
     "output_type": "stream",
     "text": [
      "[stamp: \n",
      "  secs: 1618227170\n",
      "  nsecs: 211787221\n",
      "x: 784360.5367886631\n",
      "y: 9239921.97447536\n",
      "vx: 0.10147261619567871\n",
      "vy: -1.5631176233291626\n",
      "vx_gnss: -0.025460085598751903\n",
      "vy_gnss: -1.478994656354189\n",
      "v_gnss: 1.4792137808589199\n",
      "v_tach: 0.0\n",
      "yaw_est: -1.568407416343689\n",
      "yaw_imu: -3.137403964996338\n",
      "yaw_dydx: -1.5880091190338135, 1618227170.2119884]\n"
     ]
    }
   ],
   "source": [
    "# CHECK MSG FORMAT\n",
    "_bagdata = []\n",
    "for topic, msg, t in bag.read_messages(topics=['/ukf_states']):\n",
    "    _bagdata.append([msg, t.to_sec()])\n",
    "print(_bagdata[200])"
   ]
  },
  {
   "cell_type": "code",
   "execution_count": 17,
   "id": "liable-farming",
   "metadata": {},
   "outputs": [
    {
     "name": "stdout",
     "output_type": "stream",
     "text": [
      "[header: \n",
      "  seq: 1098\n",
      "  stamp: \n",
      "    secs: 1618227168\n",
      "    nsecs: 227523565\n",
      "  frame_id: \"local_planner\"\n",
      "wp_type: 1\n",
      "x: [784360.4845506431, 784360.4845506431, 784360.4839481546, 784360.484051445, 784360.4854926998, 784360.488818443, 784360.494492542, 784360.5028989405, 784360.514344331, 784360.5290609896, 784360.5472099768, 784360.5688848468, 784360.5941159303, 784360.6228751896, 784360.6550815678, 784360.6906067064, 784360.7292808661, 784360.7708988666, 784360.8152258636, 784360.8620027971, 784360.9109513726, 784360.9617784775, 784361.0141799785, 784361.0678438896, 784361.1224529464, 784361.1776866606, 784361.2332229641, 784361.2887395738, 784361.3439152285, 784361.3984309549, 784361.4519715171, 784361.5042271927, 784361.5548959969, 784361.6036864474, 784361.6503209275, 784361.6945396615, 784361.7361052762, 784361.7748078762, 784361.810470522, 784361.8429549666, 784361.8721674863, 784361.8980646315, 784361.9206587333, 784361.9400230274, 784361.9562962985, 784361.9696870109, 784361.9804769423, 784361.9890244189, 784361.9957672886, 784362.0012258051]\n",
      "y: [9239923.809137577, 9239923.809137577, 9239923.701482067, 9239923.593826024, 9239923.486181412, 9239923.378580749, 9239923.271080667, 9239923.163761906, 9239923.056726573, 9239922.950093398, 9239922.843991673, 9239922.738554437, 9239922.633911457, 9239922.530182421, 9239922.427470729, 9239922.325858137, 9239922.225400496, 9239922.126124676, 9239922.028026704, 9239921.931071186, 9239921.835191853, 9239921.740293223, 9239921.64625319, 9239921.552926427, 9239921.46014847, 9239921.367740301, 9239921.275513308, 9239921.183274481, 9239921.0908317, 9239920.99799897, 9239920.90460149, 9239920.81048043, 9239920.715497216, 9239920.619537264, 9239920.522512957, 9239920.424365781, 9239920.32506745, 9239920.224619959, 9239920.123054467, 9239920.020429008, 9239919.916825036, 9239919.81234292, 9239919.707096567, 9239919.60120737, 9239919.494797893, 9239919.38798563, 9239919.280877372, 9239919.173564766, 9239919.066121642, 9239918.958603932]\n",
      "yaw: [-1.5781012773513794, -1.5781012773513794, -1.5746841552226858, -1.5649896033917734, -1.5498266295427514, -1.529969289161538, -1.5061566855358592, -1.479092969755251, -1.4494473407110575, -1.4178540450964314, -1.3849123774063343, -1.351186679937537, -1.317206342788618, -1.2834658038599658, -1.2504245488537769, -1.2185071112740564, -1.1881030724266188, -1.1595670614190867, -1.1332187551608917, -1.1093428783632744, -1.0881892035392835, -1.0699725510037774, -1.0548727888734226, -1.0430348330666943, -1.0345686473038764, -1.0295492431070619, -1.0280166798001522, -1.0299760645088583, -1.0353975521606982, -1.0442163454850015, -1.0563326950129035, -1.0716118990773487, -1.0898843038130925, -1.1109453031566978, -1.1345553388465353, -1.1604399004227852, -1.1882895252274377, -1.217759798404289, -1.2484713528989482, -1.2800098694588273, -1.3119260766331546, -1.3437357507729564, -1.3749197160310782, -1.404923844362174, -1.4331590555226974, -1.4590013170709177, -1.4817916443669104, -1.5008361005725623, -1.5154057966515682, -1.524736891369428]\n",
      "v: [0.3291711888328448, 0.1645855944164224, 0.16452017034445612, 0.1644547209162878, 0.1643892465450502, 0.1643237474324893, 0.16425822361612483, 0.1641926750065283, 0.1641271014194469, 0.164061502601361, 0.16399587825802567, 0.1639302280722843, 0.16386455172612485, 0.16379884891312543, 0.16373311935273493, 0.1636673627939889, 0.16360157902831937, 0.16353576789658608, 0.1634699292798376, 0.16340406311513234, 0.16333816937836765, 0.16327224809510446, 0.1632062993292978, 0.16314032317930444, 0.16307431977198913, 0.16300828925574984, 0.1629422317920844, 0.16287614754957608, 0.162810036696186, 0.16274389938692482, 0.16267773575858283, 0.16261154592785151, 0.162545329974712, 0.16247908794611862, 0.16241281984262454, 0.1623465256224118, 0.16228020519457548, 0.162213858423252, 0.16214748512410113, 0.1620810850724746, 0.16201465800733095, 0.16194820363703671, 0.16188172166126516, 0.16181521176859717, 0.16174867367136414, 0.16168210711535963, 0.16161551190367368, 0.16154888793589603, 0.16148223522568547, 0.1614155539507819]\n",
      "curv: [0.0, 0.0, 0.00693618460925049, 0.026170303903873364, 0.05543610791759295, 0.09259454912868988, 0.13563378246000113, 0.18266916527891988, 0.23194325739739574, 0.28182582107193455, 0.3308138210035984, 0.37753142433800596, 0.4207300006653318, 0.4592881220203072, 0.49221156288221934, 0.5186333001749118, 0.5378135132667847, 0.5491395839707944, 0.5521260965444539, 0.5464148376898312, 0.5317747965535526, 0.5081021647267986, 0.475420336245308, 0.433879907589374, 0.3837586776838464, 0.32546164789813536, 0.2595210220461994, 0.18659620638656138, 0.1074738096222938, 0.02306764290103347, -0.06558128018503773, -0.15730474359917057, -0.2508073288600654, -0.3446664150418668, -0.4373321787741551, -0.5271275942419686, -0.6122484331857772, -0.6907632649015003, -0.7606134562404954, -0.8196131716095696, -0.8654493729709731, -0.8956818198423981, -0.9077430692969752, -0.8989384759632948, -0.8664461920253714, -0.8073171672226707, -0.7184751488501107, -0.5967166817580569, -0.43871110835227256, -0.2410005685940284], 1618227168.2799518]\n"
     ]
    }
   ],
   "source": [
    "_wpdata = []\n",
    "for topic, msg, t in bag.read_messages(topics=['/wp_planner']):\n",
    "    _wpdata.append([msg, t.to_sec()])\n",
    "print(_wpdata[10])"
   ]
  },
  {
   "cell_type": "code",
   "execution_count": 5,
   "id": "headed-disposal",
   "metadata": {},
   "outputs": [
    {
     "name": "stdout",
     "output_type": "stream",
     "text": [
      "[[ 784360.48422591 9239923.84069188]\n",
      " [ 784360.48494464 9239923.84035323]\n",
      " [ 784360.48576485 9239923.83993193]]\n"
     ]
    }
   ],
   "source": [
    "# TAKE UKF DATA\n",
    "ukf_t = []\n",
    "ukf_xy = []\n",
    "ukf_v = []\n",
    "ukf_yaw_est = []\n",
    "ukf_yaw_imu = []\n",
    "ukf_yaw_dydx = []\n",
    "for topic, msg, t in bag.read_messages(topics=['/ukf_states']):\n",
    "    ukf_t.append(t.to_sec())\n",
    "    ukf_xy.append([msg.x, msg.y])\n",
    "    ukf_v.append([msg.vx, msg.vy])\n",
    "    ukf_yaw_est.append(msg.yaw_est)\n",
    "    ukf_yaw_imu.append(msg.yaw_imu)\n",
    "    ukf_yaw_dydx.append(msg.yaw_dydx)\n",
    "ukf_t = np.array(ukf_t)\n",
    "ukf_xy = np.array(ukf_xy)\n",
    "ukf_yaw_est = np.array(ukf_yaw_est)\n",
    "ukf_yaw_imu = np.array(ukf_yaw_imu)\n",
    "ukf_yaw_dydx = np.array(ukf_yaw_dydx)\n",
    "print(ukf_xy[:3])"
   ]
  },
  {
   "cell_type": "code",
   "execution_count": 6,
   "id": "cultural-shareware",
   "metadata": {},
   "outputs": [
    {
     "name": "stdout",
     "output_type": "stream",
     "text": [
      "[0.00132857058530882, 0.0018541623948257896, 0.002415210300491289]\n"
     ]
    }
   ],
   "source": [
    "vel = []\n",
    "for v in ukf_v:\n",
    "    vel.append(v[0]**2 + v[1]**2)\n",
    "\n",
    "print(vel[:3])"
   ]
  },
  {
   "cell_type": "code",
   "execution_count": 7,
   "id": "commercial-withdrawal",
   "metadata": {},
   "outputs": [
    {
     "name": "stdout",
     "output_type": "stream",
     "text": [
      "[[ 7.84360006e+05  9.23991910e+06 -1.54190627e+00  1.35000000e-01\n",
      "  -2.20462978e-03]\n",
      " [ 7.84360009e+05  9.23991900e+06 -1.54212811e+00  1.38654246e-01\n",
      "  -2.20599309e-03]\n",
      " [ 7.84360012e+05  9.23991890e+06 -1.54235009e+00  1.42214627e-01\n",
      "  -2.20726985e-03]]\n"
     ]
    }
   ],
   "source": [
    "# GET WAYPOINTS\n",
    "_wpfolder = \"waypoints/\"\n",
    "_wpfilename = \"1242021\"\n",
    "wp = np.load(_wpfolder + _wpfilename + \".npy\")\n",
    "\n",
    "print(wp[:3])"
   ]
  },
  {
   "cell_type": "code",
   "execution_count": 8,
   "id": "polished-innocent",
   "metadata": {},
   "outputs": [
    {
     "data": {
      "image/png": "[encoded data removed]",
      "text/plain": [
       "<Figure size 554.4x360 with 1 Axes>"
      ]
     },
     "metadata": {
      "needs_background": "light"
     },
     "output_type": "display_data"
    },
    {
     "data": {
      "image/png": "[encoded data removed]",
      "text/plain": [
       "<Figure size 648x144 with 2 Axes>"
      ]
     },
     "metadata": {
      "needs_background": "light"
     },
     "output_type": "display_data"
    }
   ],
   "source": [
    "# PLOT\n",
    "\n",
    "plt.figure(figsize=(7.7,5))\n",
    "plt.scatter(ukf_xy[0,0], ukf_xy[0,1], label=\"start state\", c='black', zorder=2)\n",
    "plt.scatter(ukf_xy[-1,0], ukf_xy[-1,1], label=\"end state\", c='red', zorder=2)\n",
    "plt.plot(ukf_xy[:,0], ukf_xy[:,1], label=\"state estimation\", c=\"black\", zorder=1)\n",
    "plt.plot(wp[:,0], wp[:,1], label=\"waypoints\", c=\"blue\")\n",
    "plt.axis(\"equal\")\n",
    "plt.title('Autonomous Mode Test')\n",
    "plt.xlabel('x(m)')\n",
    "plt.ylabel('y(m)')\n",
    "plt.legend()\n",
    "plt.grid()\n",
    "plt.savefig('img/planner_test_124.png')\n",
    "\n",
    "plt.figure(figsize=(9,2))\n",
    "plt.subplot(121)\n",
    "plt.scatter(range(len(vel)), vel, s=1)\n",
    "plt.title(\"State Velocity\")\n",
    "plt.xlabel(\"t(s)\")\n",
    "plt.ylabel(\"v(m/s)\")\n",
    "plt.grid()\n",
    "\n",
    "plt.subplot(122)\n",
    "plt.scatter(range(len(wp)), wp[:,3], s=1)\n",
    "plt.title(\"Waypoints Velocity\")\n",
    "plt.xlabel(\"t(s)\")\n",
    "plt.ylabel(\"v(m/s)\")\n",
    "plt.grid()\n",
    "plt.savefig('img/planner_test_velocity_124.png')"
   ]
  },
  {
   "cell_type": "code",
   "execution_count": null,
   "id": "scenic-bibliography",
   "metadata": {},
   "outputs": [],
   "source": []
  }
 ],
 "metadata": {
  "kernelspec": {
   "display_name": "Python 3",
   "language": "python",
   "name": "python3"
  },
  "language_info": {
   "codemirror_mode": {
    "name": "ipython",
    "version": 3
   },
   "file_extension": ".py",
   "mimetype": "text/x-python",
   "name": "python",
   "nbconvert_exporter": "python",
   "pygments_lexer": "ipython3",
   "version": "3.6.9"
  }
 },
 "nbformat": 4,
 "nbformat_minor": 5
}
